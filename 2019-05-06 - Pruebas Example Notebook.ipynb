
# coding: utf-8

# ### Step 1: Set the data location and type
# 
# There are two ways to access Azure Blob storage: account keys and shared access signatures (SAS).
# 
# To get started, we need to set the location and type of the file.

# In[2]:


storage_account_name = "NOMBRE DEL STORAGE"
storage_account_access_key = "CLAVE DEL STORAGE"


# In[3]:


file_location = "wasbs://practica001/Multas/"
file_type = "csv"


# In[4]:


spark.conf.set(
  "fs.azure.account.key."+storage_account_name+".blob.core.windows.net",
  storage_account_access_key)


# In[5]:


df = spark.read.format("csv").option("header", "true").option("delimiter", ";").load("wasbs://practica001@strge0001.blob.core.windows.net/Multas")

dbutils.fs.ls("wasbs://practica001@strge0001.blob.core.windows.net/Multas")

display(df)

